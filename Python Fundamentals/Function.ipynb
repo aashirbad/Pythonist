{
 "cells": [
  {
   "cell_type": "markdown",
   "metadata": {},
   "source": [
    "# Function"
   ]
  },
  {
   "cell_type": "code",
   "execution_count": 1,
   "metadata": {},
   "outputs": [],
   "source": [
    "'''__call__() make object of any custom class\n",
    "callable'''\n",
    "\n",
    "import socket\n",
    "\n",
    "class Resolver:\n",
    "    \n",
    "    def __init__(self):\n",
    "        self.cache = {}\n",
    "        \n",
    "    def __call__(self,host):\n",
    "        if host not in self.cache:\n",
    "            self.cache[host] = socket.gethostbyname(host)\n",
    "        return self.cache\n",
    "    \n",
    "    def clear(self):\n",
    "        return self.cache.clear()"
   ]
  },
  {
   "cell_type": "code",
   "execution_count": 2,
   "metadata": {},
   "outputs": [],
   "source": [
    "satya = Resolver()"
   ]
  },
  {
   "cell_type": "code",
   "execution_count": 3,
   "metadata": {},
   "outputs": [
    {
     "data": {
      "text/plain": [
       "{'google.com': '216.58.196.174'}"
      ]
     },
     "execution_count": 3,
     "metadata": {},
     "output_type": "execute_result"
    }
   ],
   "source": [
    "satya('google.com')"
   ]
  },
  {
   "cell_type": "raw",
   "metadata": {},
   "source": [
    "* To check anything is callable or not pass it to \n",
    "callable().\n",
    "* When classes are called by default it calls the \n",
    "constructor.\n",
    "* Def essentially binds functions body to a name such\n",
    "that the functions are like other objects at run time\n",
    ". Its executed at the run time. Means the function is \n",
    "defined at run time. \n",
    "* Local functions can be defined inside another function\n",
    "\n",
    "Local Functions\n",
    "---------------\n",
    "* Useful for specialized, one-off functions\n",
    "* Aid in code organization and readability\n",
    "* Similar to lambdas, but more general\n",
    "    - May contain multiple expressions\n",
    "    - May contain statements\n",
    "    - Local function can be returned\n",
    "    \n",
    "* First class functions - "
   ]
  },
  {
   "cell_type": "code",
   "execution_count": 6,
   "metadata": {},
   "outputs": [],
   "source": [
    "g = 'global'\n",
    "def outer(p='param'):\n",
    "    l = 'local'\n",
    "    def inner():\n",
    "        print(g,p,l)\n",
    "    inner()"
   ]
  },
  {
   "cell_type": "code",
   "execution_count": 7,
   "metadata": {},
   "outputs": [
    {
     "name": "stdout",
     "output_type": "stream",
     "text": [
      "global param local\n"
     ]
    }
   ],
   "source": [
    "outer()"
   ]
  },
  {
   "cell_type": "raw",
   "metadata": {},
   "source": [
    "Closure\n",
    "-------\n",
    "Maintain references to objects from earlier scopes\n",
    "\n",
    "Function Factories\n",
    "------------------\n",
    "Function that returns new, specialized functions.\n",
    "Its a very common useful closure. The function \n",
    "\n",
    "* LEGB doesn't apply when making new bindings.\n",
    "* Global introduce names from the enclosing namespace into the local namespace\n",
    "* nonlocal introduce names from the enclosing namespace into the local namespace.\n",
    "* You will get a syntax error if name doesn't exist for nonlocal.\n"
   ]
  },
  {
   "cell_type": "code",
   "execution_count": 8,
   "metadata": {},
   "outputs": [],
   "source": [
    "def raise_to(exp):\n",
    "    def raise_to_exp(x):\n",
    "        return pow(x,exp)\n",
    "    return raise_to_exp"
   ]
  },
  {
   "cell_type": "code",
   "execution_count": 9,
   "metadata": {},
   "outputs": [
    {
     "name": "stdout",
     "output_type": "stream",
     "text": [
      "25\n"
     ]
    }
   ],
   "source": [
    "square = raise_to(2)\n",
    "print(square(5))"
   ]
  },
  {
   "cell_type": "code",
   "execution_count": 12,
   "metadata": {},
   "outputs": [
    {
     "name": "stdout",
     "output_type": "stream",
     "text": [
      "global message:  global\n",
      "enclosing message:  enclosing\n",
      "global message:  enclosing\n",
      "global message:  local\n"
     ]
    }
   ],
   "source": [
    "message = 'global'\n",
    "\n",
    "def enclosing():\n",
    "    message = 'enclosing'\n",
    "    \n",
    "    def local():\n",
    "        global message\n",
    "        message = 'local'\n",
    "        \n",
    "    print('enclosing message: ',message)\n",
    "    local()\n",
    "    print('global message: ',message)\n",
    "    \n",
    "print('global message: ',message)\n",
    "enclosing()\n",
    "print('global message: ', message)"
   ]
  },
  {
   "cell_type": "code",
   "execution_count": null,
   "metadata": {},
   "outputs": [],
   "source": [
    "Decorators\n",
    "----------\n",
    "Modify or enhance functions without changing their\n",
    "definations. Its implemented as callables that take \n",
    "and return other callables.\n",
    "\n",
    "* First the function is executed the result of return\n",
    "statement is the function object after creation of\n",
    "the function object, the function object passed to\n",
    "decorator function and result is returned.\n",
    "\n",
    "Decorator is used to\n",
    "--------------------\n",
    "* Replace, enhance, or modify existing functions\n",
    "* Doesn't change the origional function defination.\n",
    "* Calling code doesn't need to change\n",
    "* Decorator mechanism uses the modified functions \n",
    "origional name."
   ]
  },
  {
   "cell_type": "code",
   "execution_count": 13,
   "metadata": {},
   "outputs": [],
   "source": [
    "def escape_unicode(f):\n",
    "    def wrap(*args, **kwargs):\n",
    "        x = f(*args, **kwargs)\n",
    "        return ascii(x)\n",
    "    return wrap\n",
    "\n",
    "# using the above decorator\n",
    "@escape_unicode\n",
    "def northern_city():\n",
    "    return 'Tromso'"
   ]
  },
  {
   "cell_type": "raw",
   "metadata": {},
   "source": [
    "class objects can also be used as decorators\n",
    "class instances can also be taken as decorators.\n",
    "\n",
    "* Instance decorators can be also used in other class methods."
   ]
  },
  {
   "cell_type": "code",
   "execution_count": 15,
   "metadata": {},
   "outputs": [],
   "source": [
    "class Trace:\n",
    "    def __init__(self):\n",
    "        self.enabled = True\n",
    "        \n",
    "    def __call__(self,f):\n",
    "        def wrap(*args, **kwargs):\n",
    "            if self.enabled:\n",
    "                print(\"calling {}\".format(f))\n",
    "            return f(*args, **kwargs)\n",
    "        return wrap\n",
    "    \n",
    "tracer = Trace()\n",
    "\n",
    "@tracer\n",
    "def rotate_list(l):\n",
    "    return l[1:]+[l[0]]"
   ]
  },
  {
   "cell_type": "markdown",
   "metadata": {},
   "source": [
    "when 2 decorator stacked on one function the nearest\n",
    "decorator is used first and then it moves towards \n",
    "top."
   ]
  },
  {
   "cell_type": "code",
   "execution_count": 16,
   "metadata": {},
   "outputs": [],
   "source": [
    "@tracer\n",
    "@escape_unicode\n",
    "def abc(name):\n",
    "    return name"
   ]
  },
  {
   "cell_type": "code",
   "execution_count": 17,
   "metadata": {},
   "outputs": [],
   "source": [
    "def noop(f):\n",
    "    @functools.wraps(f)\n",
    "    def noop_wrapper():\n",
    "        return f()\n",
    "    \n",
    "    noop_wrapper.__name__ = f.__name__\n",
    "    noop_wrapper.__doc__ = f.__doc__\n",
    "    return noop_wrapper\n",
    "\n",
    "@noop\n",
    "def hello():\n",
    "    print(\"Hello World\")\n",
    "    \n",
    "'''\n",
    "functools.wraps: Property update metadata on wrapped\n",
    "functions. Its equal to the 2 line return in noop\n",
    "function\n",
    "'''"
   ]
  },
  {
   "cell_type": "raw",
   "metadata": {},
   "source": [
    "* Decorators are a powerful tool.\n",
    "* Decorators are widely used in python\n",
    "* Its possible to overuse decorators; be mindful\n",
    "* They can improve maintainability, increase clarity\n",
    ", and reduce complexity.\n",
    "* Naive decorators can lose important meta data. So \n",
    "functools.wrapper is used.\n",
    "* Factory functions which produce decorator functions\n",
    "which make wrapper functions which wrap functions\n",
    "(with added closures!)"
   ]
  },
  {
   "cell_type": "code",
   "execution_count": null,
   "metadata": {},
   "outputs": [],
   "source": []
  }
 ],
 "metadata": {
  "kernelspec": {
   "display_name": "Python 3",
   "language": "python",
   "name": "python3"
  },
  "language_info": {
   "codemirror_mode": {
    "name": "ipython",
    "version": 3
   },
   "file_extension": ".py",
   "mimetype": "text/x-python",
   "name": "python",
   "nbconvert_exporter": "python",
   "pygments_lexer": "ipython3",
   "version": "3.7.3"
  }
 },
 "nbformat": 4,
 "nbformat_minor": 2
}
