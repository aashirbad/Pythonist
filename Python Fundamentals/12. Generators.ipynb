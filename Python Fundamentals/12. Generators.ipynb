{
 "cells": [
  {
   "cell_type": "markdown",
   "metadata": {},
   "source": [
    "# Generators"
   ]
  },
  {
   "cell_type": "code",
   "execution_count": null,
   "metadata": {},
   "outputs": [],
   "source": [
    "* All generators are iterators\n",
    "* The next value of the sequence is computed on demand\n",
    "* Can model infinite sequence\n",
    "* Are composable into pipe lines"
   ]
  },
  {
   "cell_type": "code",
   "execution_count": 1,
   "metadata": {},
   "outputs": [],
   "source": [
    "def gen123():\n",
    "    yield 1\n",
    "    yield 2\n",
    "    yield 3\n",
    "    return"
   ]
  },
  {
   "cell_type": "code",
   "execution_count": 2,
   "metadata": {},
   "outputs": [],
   "source": [
    "g = gen123()"
   ]
  },
  {
   "cell_type": "code",
   "execution_count": 3,
   "metadata": {},
   "outputs": [
    {
     "name": "stdout",
     "output_type": "stream",
     "text": [
      "<generator object gen123 at 0x7f756c56d660>\n"
     ]
    }
   ],
   "source": [
    "print(g)"
   ]
  },
  {
   "cell_type": "code",
   "execution_count": 4,
   "metadata": {},
   "outputs": [
    {
     "data": {
      "text/plain": [
       "1"
      ]
     },
     "execution_count": 4,
     "metadata": {},
     "output_type": "execute_result"
    }
   ],
   "source": [
    "next(g)"
   ]
  },
  {
   "cell_type": "code",
   "execution_count": 5,
   "metadata": {},
   "outputs": [
    {
     "data": {
      "text/plain": [
       "2"
      ]
     },
     "execution_count": 5,
     "metadata": {},
     "output_type": "execute_result"
    }
   ],
   "source": [
    "next(g)"
   ]
  },
  {
   "cell_type": "code",
   "execution_count": 6,
   "metadata": {},
   "outputs": [
    {
     "data": {
      "text/plain": [
       "3"
      ]
     },
     "execution_count": 6,
     "metadata": {},
     "output_type": "execute_result"
    }
   ],
   "source": [
    "next(g)"
   ]
  },
  {
   "cell_type": "code",
   "execution_count": 7,
   "metadata": {},
   "outputs": [
    {
     "ename": "StopIteration",
     "evalue": "",
     "output_type": "error",
     "traceback": [
      "\u001b[0;31m---------------------------------------------------------------------------\u001b[0m",
      "\u001b[0;31mStopIteration\u001b[0m                             Traceback (most recent call last)",
      "\u001b[0;32m<ipython-input-7-e734f8aca5ac>\u001b[0m in \u001b[0;36m<module>\u001b[0;34m\u001b[0m\n\u001b[0;32m----> 1\u001b[0;31m \u001b[0mnext\u001b[0m\u001b[0;34m(\u001b[0m\u001b[0mg\u001b[0m\u001b[0;34m)\u001b[0m\u001b[0;34m\u001b[0m\u001b[0;34m\u001b[0m\u001b[0m\n\u001b[0m",
      "\u001b[0;31mStopIteration\u001b[0m: "
     ]
    }
   ],
   "source": [
    "next(g)"
   ]
  },
  {
   "cell_type": "code",
   "execution_count": 8,
   "metadata": {},
   "outputs": [],
   "source": [
    "s = [*g]"
   ]
  },
  {
   "cell_type": "code",
   "execution_count": 9,
   "metadata": {},
   "outputs": [
    {
     "data": {
      "text/plain": [
       "[]"
      ]
     },
     "execution_count": 9,
     "metadata": {},
     "output_type": "execute_result"
    }
   ],
   "source": [
    "s"
   ]
  },
  {
   "cell_type": "code",
   "execution_count": 10,
   "metadata": {},
   "outputs": [],
   "source": [
    "h = gen123()"
   ]
  },
  {
   "cell_type": "code",
   "execution_count": 11,
   "metadata": {},
   "outputs": [
    {
     "data": {
      "text/plain": [
       "False"
      ]
     },
     "execution_count": 11,
     "metadata": {},
     "output_type": "execute_result"
    }
   ],
   "source": [
    "h is g"
   ]
  },
  {
   "cell_type": "code",
   "execution_count": 12,
   "metadata": {},
   "outputs": [],
   "source": [
    "def gen246():\n",
    "    print(\"about to yield 2\")\n",
    "    yield 2\n",
    "    print(\"about to yield 4\")\n",
    "    yield 4\n",
    "    print(\"about to yield 6\")\n",
    "    yield 6\n",
    "    print(\"about to return\")\n",
    "    return\n"
   ]
  },
  {
   "cell_type": "code",
   "execution_count": 13,
   "metadata": {},
   "outputs": [],
   "source": [
    "g = gen246()\n",
    "h = gen246()"
   ]
  },
  {
   "cell_type": "code",
   "execution_count": 14,
   "metadata": {},
   "outputs": [
    {
     "data": {
      "text/plain": [
       "False"
      ]
     },
     "execution_count": 14,
     "metadata": {},
     "output_type": "execute_result"
    }
   ],
   "source": [
    "h is g"
   ]
  },
  {
   "cell_type": "code",
   "execution_count": 15,
   "metadata": {},
   "outputs": [
    {
     "name": "stdout",
     "output_type": "stream",
     "text": [
      "about to yield 2\n"
     ]
    },
    {
     "data": {
      "text/plain": [
       "2"
      ]
     },
     "execution_count": 15,
     "metadata": {},
     "output_type": "execute_result"
    }
   ],
   "source": [
    "next(g)"
   ]
  },
  {
   "cell_type": "code",
   "execution_count": 16,
   "metadata": {},
   "outputs": [
    {
     "name": "stdout",
     "output_type": "stream",
     "text": [
      "about to yield 4\n"
     ]
    },
    {
     "data": {
      "text/plain": [
       "4"
      ]
     },
     "execution_count": 16,
     "metadata": {},
     "output_type": "execute_result"
    }
   ],
   "source": [
    "next(g)"
   ]
  },
  {
   "cell_type": "markdown",
   "metadata": {},
   "source": [
    "## Stateful Generators"
   ]
  },
  {
   "cell_type": "raw",
   "metadata": {},
   "source": [
    "* Generators resume execution\n",
    "* Can maintain state in local variables\n",
    "* Complex control flow\n",
    "* Lazy evaluation"
   ]
  },
  {
   "cell_type": "code",
   "execution_count": 18,
   "metadata": {},
   "outputs": [
    {
     "name": "stdout",
     "output_type": "stream",
     "text": [
      "1\n",
      "2\n",
      "3\n"
     ]
    }
   ],
   "source": [
    "'''Module for demonstrating generator execution.'''\n",
    "\n",
    "def take(count,iterable):\n",
    "    \"\"\"Take items from the front of an iterable\n",
    "    \n",
    "    Args:\n",
    "        count: The maximum number of items to retrive.\n",
    "        iterable: The source series\n",
    "        \n",
    "    Yields:\n",
    "        At most 'count' items from 'iterable'\n",
    "    \"\"\"\n",
    "    \n",
    "    counter = 0\n",
    "    for item in iterable:\n",
    "        if counter == count:\n",
    "            return\n",
    "        counter += 1\n",
    "        yield item\n",
    "        \n",
    "def run_take():\n",
    "    items = [1,2,3,4,5]\n",
    "    for item in take(3,items):\n",
    "        print(item)\n",
    "        \n",
    "if __name__ == '__main__':\n",
    "    run_take()"
   ]
  },
  {
   "cell_type": "code",
   "execution_count": 19,
   "metadata": {},
   "outputs": [
    {
     "name": "stdout",
     "output_type": "stream",
     "text": [
      "1\n",
      "2\n",
      "3\n"
     ]
    }
   ],
   "source": [
    "def distinct(iterable):\n",
    "    \"\"\"Return unique items by eliminating \n",
    "    duplicates.\n",
    "    \n",
    "    Args: \n",
    "        Iterable: The source series\n",
    "        \n",
    "    Yields:\n",
    "        Unique elements in order from 'iterable'\n",
    "    \"\"\"\n",
    "    \n",
    "    seen = set()\n",
    "    for item in iterable:\n",
    "        if item in seen:\n",
    "            continue\n",
    "        yield item\n",
    "        seen.add(item)\n",
    "        \n",
    "def run_distinct():\n",
    "    items = [1,1,2,2,3,3]\n",
    "    for item in distinct(items):\n",
    "        print(item)\n",
    "        \n",
    "if __name__ == '__main__':\n",
    "    run_take()"
   ]
  },
  {
   "cell_type": "code",
   "execution_count": 20,
   "metadata": {},
   "outputs": [
    {
     "data": {
      "text/plain": [
       "' \\n* Generators are lazy \\n\\nIts do just in time computation.\\n\\nIts used in infinite or large sequences like\\nsensor reading, mathematical series and massive files\\n\\n'"
      ]
     },
     "execution_count": 20,
     "metadata": {},
     "output_type": "execute_result"
    }
   ],
   "source": [
    "''' \n",
    "* Generators are lazy \n",
    "\n",
    "Its do just in time computation.\n",
    "\n",
    "Its used in infinite or large sequences like\n",
    "sensor reading, mathematical series and massive files\n",
    "\n",
    "'''"
   ]
  },
  {
   "cell_type": "code",
   "execution_count": 21,
   "metadata": {},
   "outputs": [],
   "source": [
    "# Lucas Series\n",
    "def lucas():\n",
    "    yield 2\n",
    "    a = 2\n",
    "    b = 1\n",
    "    while True:\n",
    "        yield b\n",
    "        a,b = b, a+b"
   ]
  },
  {
   "cell_type": "code",
   "execution_count": 22,
   "metadata": {},
   "outputs": [],
   "source": [
    "## Generator Comprehensions\n",
    "# Similar syntax to list comprehensions\n",
    "# Create a generator object\n",
    "# Concise\n",
    "# Lazy Evaluation\n",
    "# These are single used objects\n",
    "million_sq = (x*x for x in range(1,1000001))"
   ]
  },
  {
   "cell_type": "code",
   "execution_count": 23,
   "metadata": {},
   "outputs": [
    {
     "data": {
      "text/plain": [
       "333333833333500000"
      ]
     },
     "execution_count": 23,
     "metadata": {},
     "output_type": "execute_result"
    }
   ],
   "source": [
    "sum(million_sq)"
   ]
  },
  {
   "cell_type": "raw",
   "metadata": {},
   "source": [
    "* Compreshensions are a concise syntax for describing lists, sets and dictionaries.\n",
    "* Comprehensions operate on an iterable source object and apply an optional predicate filter and a mandatory expression, both of which are usuallyin terms of the current item.\n",
    "* we retrive an iterator from an iterable using built-in iter() function.\n",
    "* Iterators produnce items one-by-one from the underlying iterable series each time they are passed to the built-in next() function.\n",
    "\n",
    "* Generator functions allow us to describe series using imperative code.\n",
    "* Generator functions contain at least one use of the yield keyword.\n",
    "* Generators are iterators. When advanced with next() the generator starts or resumes execution up to and including the next yield.\n",
    "* Each call to a generator function creates a new generator object.\n",
    "* Generators can maintain explicit state in local variables between iterations.\n",
    "* Generators are lazy, and so can model infinite series of data.\n",
    "* Generator expressions have a similar syntactic form to list comprehensions and allow for a more declarative and concise way of creating generator objects"
   ]
  }
 ],
 "metadata": {
  "kernelspec": {
   "display_name": "Python 3",
   "language": "python",
   "name": "python3"
  },
  "language_info": {
   "codemirror_mode": {
    "name": "ipython",
    "version": 3
   },
   "file_extension": ".py",
   "mimetype": "text/x-python",
   "name": "python",
   "nbconvert_exporter": "python",
   "pygments_lexer": "ipython3",
   "version": "3.7.3"
  }
 },
 "nbformat": 4,
 "nbformat_minor": 2
}
