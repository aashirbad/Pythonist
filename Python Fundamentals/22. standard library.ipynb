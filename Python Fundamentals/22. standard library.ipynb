{
 "cells": [
  {
   "cell_type": "markdown",
   "metadata": {},
   "source": [
    "# About standard library"
   ]
  },
  {
   "cell_type": "raw",
   "metadata": {},
   "source": [
    "Often reffered to batteries included. \n",
    "import <module name>\n",
    "For example : import math"
   ]
  },
  {
   "cell_type": "markdown",
   "metadata": {},
   "source": [
    "help(object) - To get help about a object, module or anything else. \n",
    "ctrl + Q to return to repl."
   ]
  },
  {
   "cell_type": "code",
   "execution_count": null,
   "metadata": {},
   "outputs": [],
   "source": []
  }
 ],
 "metadata": {
  "kernelspec": {
   "display_name": "Python 3",
   "language": "python",
   "name": "python3"
  },
  "language_info": {
   "codemirror_mode": {
    "name": "ipython",
    "version": 3
   },
   "file_extension": ".py",
   "mimetype": "text/x-python",
   "name": "python",
   "nbconvert_exporter": "python",
   "pygments_lexer": "ipython3",
   "version": "3.7.3"
  }
 },
 "nbformat": 4,
 "nbformat_minor": 2
}
