{
 "cells": [
  {
   "cell_type": "markdown",
   "metadata": {},
   "source": [
    "# Data types - primitive type Scalars vs nonprimitive collections"
   ]
  },
  {
   "cell_type": "raw",
   "metadata": {},
   "source": [
    "int : unlimited precision signed integer\n",
    "10 - Decimal number\n",
    "0b - Binary number\n",
    "0o - Octal number\n",
    "0x - Hexadecimal number\n",
    "int(3.5) - converting from float to int\n",
    "int(\"786\") - converting from string to int\n",
    "int(1000,3) - converting from base 3 to decimal"
   ]
  },
  {
   "cell_type": "raw",
   "metadata": {},
   "source": [
    "float: IEEE-754 double precision (64bit) 53 bits of binary precision 15 to 16 bits of decimal precision.\n",
    "for eg 3.125, 3e8, 1.616e-35.\n",
    "float(\"1.658\")\n",
    "float(nan)\n",
    "float(inf)"
   ]
  },
  {
   "cell_type": "raw",
   "metadata": {},
   "source": [
    "None: The sole value of None Type. Often used to present the absence of a value. Not displayed by REPL.\n",
    "It can be bound to any variable as others. a = None\n",
    "and can be checked by using \"is\" - a is None"
   ]
  },
  {
   "cell_type": "code",
   "execution_count": null,
   "metadata": {},
   "outputs": [],
   "source": [
    "Bool: Boolean logical value. Either True or False. \n",
    "bool(0), bool(42)"
   ]
  }
 ],
 "metadata": {
  "kernelspec": {
   "display_name": "Python 3",
   "language": "python",
   "name": "python3"
  },
  "language_info": {
   "codemirror_mode": {
    "name": "ipython",
    "version": 3
   },
   "file_extension": ".py",
   "mimetype": "text/x-python",
   "name": "python",
   "nbconvert_exporter": "python",
   "pygments_lexer": "ipython3",
   "version": "3.7.3"
  }
 },
 "nbformat": 4,
 "nbformat_minor": 2
}
