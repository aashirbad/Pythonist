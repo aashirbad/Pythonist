{
 "cells": [
  {
   "cell_type": "markdown",
   "metadata": {},
   "source": [
    "For unix like system the first line of python script should be a shebang."
   ]
  },
  {
   "cell_type": "markdown",
   "metadata": {},
   "source": [
    "It decides which interpreter is used during execution."
   ]
  },
  {
   "cell_type": "code",
   "execution_count": 1,
   "metadata": {},
   "outputs": [],
   "source": [
    "#!/usr/bin/env python3 - Its the shebang"
   ]
  },
  {
   "cell_type": "markdown",
   "metadata": {},
   "source": [
    "## Objects"
   ]
  },
  {
   "cell_type": "markdown",
   "metadata": {},
   "source": [
    "After reassign a variable to an object the previous object is collected by Garbage collector."
   ]
  },
  {
   "cell_type": "markdown",
   "metadata": {},
   "source": [
    "id(): It returns a unique identifier for an object."
   ]
  },
  {
   "cell_type": "markdown",
   "metadata": {},
   "source": [
    "is also checks id of objects"
   ]
  },
  {
   "cell_type": "markdown",
   "metadata": {},
   "source": [
    "Augmented assignment operator creates a new object and reassign it to the variable and the previous one ic collected by garbage collector."
   ]
  },
  {
   "cell_type": "code",
   "execution_count": 11,
   "metadata": {},
   "outputs": [
    {
     "data": {
      "text/plain": [
       "True"
      ]
     },
     "execution_count": 11,
     "metadata": {},
     "output_type": "execute_result"
    }
   ],
   "source": [
    "a = 3\n",
    "b = 3\n",
    "a is b"
   ]
  },
  {
   "cell_type": "code",
   "execution_count": 16,
   "metadata": {},
   "outputs": [
    {
     "data": {
      "text/plain": [
       "False"
      ]
     },
     "execution_count": 16,
     "metadata": {},
     "output_type": "execute_result"
    }
   ],
   "source": [
    "c = [1,2]\n",
    "d = [1,2]\n",
    "c is d"
   ]
  },
  {
   "cell_type": "markdown",
   "metadata": {},
   "source": [
    "value: Equivalent contents\n",
    "\n",
    "Identity: Same object"
   ]
  },
  {
   "cell_type": "code",
   "execution_count": 17,
   "metadata": {},
   "outputs": [],
   "source": [
    "def modify(m):\n",
    "    m.append(5)"
   ]
  },
  {
   "cell_type": "code",
   "execution_count": 18,
   "metadata": {},
   "outputs": [],
   "source": [
    "def chng(m):\n",
    "    m = [7,8]\n",
    "    return m"
   ]
  },
  {
   "cell_type": "code",
   "execution_count": 19,
   "metadata": {},
   "outputs": [
    {
     "name": "stdout",
     "output_type": "stream",
     "text": [
      "c [1, 2]\n",
      "d [1, 2]\n",
      "c modified None\n",
      "d chnaged [7, 8]\n",
      "c [1, 2, 5]\n",
      "d [1, 2]\n"
     ]
    }
   ],
   "source": [
    "print(\"c\",c)\n",
    "print(\"d\",d)\n",
    "l1 = modify(c)\n",
    "l2 = chng(d)\n",
    "print(\"c modified\",l1)\n",
    "print(\"d chnaged\",l2)\n",
    "print(\"c\",c)\n",
    "print(\"d\",d)"
   ]
  },
  {
   "cell_type": "markdown",
   "metadata": {},
   "source": [
    "* Function arguments are passed by object reference, this means the value of the reference is copied to function arguments, not the value of the reffered object."
   ]
  },
  {
   "cell_type": "code",
   "execution_count": null,
   "metadata": {},
   "outputs": [],
   "source": []
  }
 ],
 "metadata": {
  "kernelspec": {
   "display_name": "Python 3",
   "language": "python",
   "name": "python3"
  },
  "language_info": {
   "codemirror_mode": {
    "name": "ipython",
    "version": 3
   },
   "file_extension": ".py",
   "mimetype": "text/x-python",
   "name": "python",
   "nbconvert_exporter": "python",
   "pygments_lexer": "ipython3",
   "version": "3.7.3"
  }
 },
 "nbformat": 4,
 "nbformat_minor": 2
}
