{
 "cells": [
  {
   "cell_type": "markdown",
   "metadata": {},
   "source": [
    "# String"
   ]
  },
  {
   "cell_type": "markdown",
   "metadata": {},
   "source": [
    "homogeneous immutable sequence of unicode codepoints. Its of data type str.\n",
    "Its delimited by '' or \"\". You must not mix them. One can contain another likewise inside '' we can have a \" and vice versa."
   ]
  },
  {
   "cell_type": "code",
   "execution_count": 9,
   "metadata": {},
   "outputs": [
    {
     "data": {
      "text/plain": [
       "'satyapati'"
      ]
     },
     "execution_count": 9,
     "metadata": {},
     "output_type": "execute_result"
    }
   ],
   "source": [
    "\"satya\"\"pati\" #concatenated"
   ]
  },
  {
   "cell_type": "markdown",
   "metadata": {},
   "source": [
    "Strings with new line\n",
    "1. Multiline - \"\"\"this is a multiline \"\"\"\n",
    "2. Escape sequence - \"this is \\n escape sequence\""
   ]
  },
  {
   "cell_type": "markdown",
   "metadata": {},
   "source": [
    "Raw string: Here escape sequences are not needed."
   ]
  },
  {
   "cell_type": "code",
   "execution_count": 10,
   "metadata": {},
   "outputs": [
    {
     "name": "stdout",
     "output_type": "stream",
     "text": [
      "c:\\user\\satya\n",
      "c:\\Pati\\satya\n"
     ]
    }
   ],
   "source": [
    "path1 = r'c:\\user\\satya'\n",
    "path2 = 'c:\\\\Pati\\\\satya'\n",
    "print(path1)\n",
    "print(path2)"
   ]
  },
  {
   "cell_type": "raw",
   "metadata": {},
   "source": [
    "str(6), str(7.5) # constructors"
   ]
  },
  {
   "cell_type": "markdown",
   "metadata": {},
   "source": [
    "It supports slicing and indexing. "
   ]
  },
  {
   "cell_type": "markdown",
   "metadata": {},
   "source": [
    "## Methods "
   ]
  },
  {
   "cell_type": "code",
   "execution_count": null,
   "metadata": {},
   "outputs": [],
   "source": []
  },
  {
   "cell_type": "code",
   "execution_count": 12,
   "metadata": {},
   "outputs": [],
   "source": [
    "s = 'satya'\n",
    "s += 'pati'"
   ]
  },
  {
   "cell_type": "code",
   "execution_count": 13,
   "metadata": {},
   "outputs": [
    {
     "data": {
      "text/plain": [
       "'satyapati'"
      ]
     },
     "execution_count": 13,
     "metadata": {},
     "output_type": "execute_result"
    }
   ],
   "source": [
    "s"
   ]
  },
  {
   "cell_type": "code",
   "execution_count": 16,
   "metadata": {},
   "outputs": [],
   "source": [
    "pre,_,post = 'unforgetable'.partition('forget')\n",
    "\n",
    "# The partition() method divides a string into three\n",
    "# around separator: prefix, separator, postfix\n",
    "# Tuple unpacking is useful to destrure the result\n",
    "# use underscore as a dummy name for the separator"
   ]
  },
  {
   "cell_type": "markdown",
   "metadata": {},
   "source": [
    "## Strings and Representations "
   ]
  },
  {
   "cell_type": "raw",
   "metadata": {},
   "source": [
    "Functions for making string representations from python objects - str(), repr().\n",
    "these methods took objects as argument and return string versions. Both of them relay on 2 special methods __str__() and __repr__()"
   ]
  },
  {
   "cell_type": "code",
   "execution_count": 1,
   "metadata": {},
   "outputs": [],
   "source": [
    "class Point2D:\n",
    "    def __init__(self,x,y):\n",
    "        self.x = x\n",
    "        self.y = y\n",
    "    \n",
    "    def __str__(self):\n",
    "        return '({},{})'.format(self.x,self.y)\n",
    "    \n",
    "    def __repr__(self):\n",
    "        return 'Point2D(x={},y={})'.format(self.x, self.y)\n",
    "    \n",
    "    def __format__(self,f):\n",
    "        if f == 'r':\n",
    "            return '{}, {}'.format(self.y, self.x)\n",
    "        else:\n",
    "            return '{}, {}'.format(self.x, self.y)"
   ]
  },
  {
   "cell_type": "code",
   "execution_count": 8,
   "metadata": {},
   "outputs": [
    {
     "name": "stdout",
     "output_type": "stream",
     "text": [
      "(3,4)\n",
      "Point2D(x=3,y=4)\n",
      "(3,4)\n"
     ]
    }
   ],
   "source": [
    "p = Point2D(x=3,y=4)\n",
    "print(str(p))\n",
    "print(repr(p))\n",
    "print(format(p))"
   ]
  },
  {
   "cell_type": "code",
   "execution_count": 11,
   "metadata": {},
   "outputs": [
    {
     "ename": "TypeError",
     "evalue": "unsupported format string passed to Point2D.__format__",
     "output_type": "error",
     "traceback": [
      "\u001b[0;31m---------------------------------------------------------------------------\u001b[0m",
      "\u001b[0;31mTypeError\u001b[0m                                 Traceback (most recent call last)",
      "\u001b[0;32m<ipython-input-11-6112a7c97382>\u001b[0m in \u001b[0;36m<module>\u001b[0;34m\u001b[0m\n\u001b[0;32m----> 1\u001b[0;31m \u001b[0mformat\u001b[0m\u001b[0;34m(\u001b[0m\u001b[0mPoint2D\u001b[0m\u001b[0;34m(\u001b[0m\u001b[0;36m1\u001b[0m\u001b[0;34m,\u001b[0m\u001b[0;36m2\u001b[0m\u001b[0;34m)\u001b[0m\u001b[0;34m,\u001b[0m\u001b[0;34m'r'\u001b[0m\u001b[0;34m)\u001b[0m\u001b[0;34m\u001b[0m\u001b[0;34m\u001b[0m\u001b[0m\n\u001b[0m",
      "\u001b[0;31mTypeError\u001b[0m: unsupported format string passed to Point2D.__format__"
     ]
    }
   ],
   "source": [
    "format(Point2D(1,2),'r')"
   ]
  },
  {
   "cell_type": "raw",
   "metadata": {},
   "source": [
    "repr(): \n",
    "-------\n",
    "Its the built in function produces an unambiguous string representation of an object.\n",
    "\n",
    "* Exactness is more important than human-friendliness\n",
    "* Suited for debigging\n",
    "* Includes identifying information\n",
    "* Generally best for logging\n",
    "\n",
    "The result of repr() should generally contain more information than the result of str(). Its useful for developers.\n",
    "\n",
    "As a good practise you should always write a repr() for your classes.\n",
    "\n",
    "Its used when showing elements of a collection."
   ]
  },
  {
   "cell_type": "raw",
   "metadata": {},
   "source": [
    "str():\n",
    "------\n",
    "Its also a built in function produces a readable, human friendly representation of an object.\n",
    "Its not for developer. Its used by print(). But by default str() simply calls repr(). But reverse is not True."
   ]
  },
  {
   "cell_type": "raw",
   "metadata": {},
   "source": [
    "format():\n",
    "---------\n",
    "The method format() calls a special method __format__() it's invoked by str.format().\n",
    "\n",
    "f as an argument in __format__() specifies a special formatting option.\n",
    "\n",
    "In general you need not to implement __format__(). By default it calls to str().\n",
    "\n",
    "if '{!r}'.format() is given then it calls to __repr__(). And 's' in place of r call the str."
   ]
  },
  {
   "cell_type": "raw",
   "metadata": {},
   "source": [
    "reprlib:\n",
    "--------\n",
    "It supports alternative implementations of repr().\n",
    "\n",
    "reprlib.repr() is a drop-in replacement for repr()"
   ]
  },
  {
   "cell_type": "code",
   "execution_count": 13,
   "metadata": {},
   "outputs": [
    {
     "name": "stdout",
     "output_type": "stream",
     "text": [
      "1000000\n"
     ]
    },
    {
     "data": {
      "text/plain": [
       "'[Point2D(x=0,y=0), Point2D(x=0,y=1), Point2D(x=0,y=2), Point2D(x=0,y=3), Point2D(x=0,y=4), Point2D(x=0,y=5), ...]'"
      ]
     },
     "execution_count": 13,
     "metadata": {},
     "output_type": "execute_result"
    }
   ],
   "source": [
    "import reprlib\n",
    "points = [Point2D(x,y) for x in range(1000) for y in range(1000)]\n",
    "print(len(points))\n",
    "reprlib.repr(points)"
   ]
  },
  {
   "cell_type": "raw",
   "metadata": {},
   "source": [
    "reprlib.Repr:\n",
    "-------------\n",
    "* implements the main functionality of reprlib\n",
    "* supports customization through subclassing\n",
    "* reprlib.aRepr is an instance used by Python and debuggers"
   ]
  },
  {
   "cell_type": "raw",
   "metadata": {},
   "source": [
    "ascii()\n",
    "-------\n",
    "replaces non-ascii characters with escape sequences.\n",
    "\n",
    "ord()\n",
    "-----\n",
    "It converts a single character to its integer unicode codepoinit.\n",
    "\n",
    "chr()\n",
    "-----\n",
    "converts an integer unicode codepoint to a single character string.\n",
    "\n",
    "chr() and ord() are reverse processes."
   ]
  },
  {
   "cell_type": "code",
   "execution_count": null,
   "metadata": {},
   "outputs": [],
   "source": []
  }
 ],
 "metadata": {
  "kernelspec": {
   "display_name": "Python 3",
   "language": "python",
   "name": "python3"
  },
  "language_info": {
   "codemirror_mode": {
    "name": "ipython",
    "version": 3
   },
   "file_extension": ".py",
   "mimetype": "text/x-python",
   "name": "python",
   "nbconvert_exporter": "python",
   "pygments_lexer": "ipython3",
   "version": "3.7.3"
  }
 },
 "nbformat": 4,
 "nbformat_minor": 2
}
