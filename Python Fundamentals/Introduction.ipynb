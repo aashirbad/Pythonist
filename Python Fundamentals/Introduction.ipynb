{
 "cells": [
  {
   "cell_type": "markdown",
   "metadata": {},
   "source": [
    "# Introduction"
   ]
  },
  {
   "cell_type": "markdown",
   "metadata": {},
   "source": [
    "* Python is powerful and with great standard library.\n",
    "* Its used in Youtube, Google, Instagram, dropbox and many more.\n",
    "* Its used in web development, data science, scientific computation, Artificial intelligence, data analytics etc, as its a general purpose programming language.\n",
    "* Python is open source.\n",
    "* Its expressive, efficient, readable, quick development and batteries included philosophy."
   ]
  },
  {
   "cell_type": "markdown",
   "metadata": {},
   "source": [
    "## Little bit about Dev"
   ]
  },
  {
   "cell_type": "markdown",
   "metadata": {},
   "source": [
    "* Developed by Guido Van Russom. For this Guido van Russom Known as \"Benevolant Dictactor of Life\" (BDFL). Currently he is a member of python steering council.\n",
    "* Released in 1991 and maintained by non profit Python software foundation.\n",
    "* Its a strongly typed language, means every object has a type and implicit conversion of types doesn't occure. And its also dynamic typed means no type checking prior to running it. Every type checking is done at run time. "
   ]
  },
  {
   "cell_type": "markdown",
   "metadata": {},
   "source": [
    "* It's an interpreted language and use indentation for code blocking. It's an expressive and highly readbale."
   ]
  },
  {
   "cell_type": "markdown",
   "metadata": {},
   "source": [
    "### Python Implementation"
   ]
  },
  {
   "cell_type": "raw",
   "metadata": {},
   "source": [
    "Implementation        written in            runs on\n",
    "\n",
    "CPython                  C                  native\n",
    "Jython                  java                 JVM\n",
    "IronPython               C#                 .NET\n",
    "PyPy                    RPython           Native \n",
    "                                            and                                               others"
   ]
  },
  {
   "cell_type": "raw",
   "metadata": {},
   "source": [
    "Python 2    2.6 - 2008   2.7 - 2010\n",
    "Python 3    3.0 - 2008   3.1 - 2009  3.2 - 2011   3.3 - 2012  3.4 - 2014  3.5 - 2015  3.6 - 2016  \n",
    "3.7 - 2018"
   ]
  },
  {
   "cell_type": "markdown",
   "metadata": {},
   "source": [
    "* It has batteries included philosophy. Means without installing 3rd party library you can use broad standard library. "
   ]
  },
  {
   "cell_type": "code",
   "execution_count": 1,
   "metadata": {},
   "outputs": [
    {
     "name": "stdout",
     "output_type": "stream",
     "text": [
      "The Zen of Python, by Tim Peters\n",
      "\n",
      "Beautiful is better than ugly.\n",
      "Explicit is better than implicit.\n",
      "Simple is better than complex.\n",
      "Complex is better than complicated.\n",
      "Flat is better than nested.\n",
      "Sparse is better than dense.\n",
      "Readability counts.\n",
      "Special cases aren't special enough to break the rules.\n",
      "Although practicality beats purity.\n",
      "Errors should never pass silently.\n",
      "Unless explicitly silenced.\n",
      "In the face of ambiguity, refuse the temptation to guess.\n",
      "There should be one-- and preferably only one --obvious way to do it.\n",
      "Although that way may not be obvious at first unless you're Dutch.\n",
      "Now is better than never.\n",
      "Although never is often better than *right* now.\n",
      "If the implementation is hard to explain, it's a bad idea.\n",
      "If the implementation is easy to explain, it may be a good idea.\n",
      "Namespaces are one honking great idea -- let's do more of those!\n"
     ]
    }
   ],
   "source": [
    "#zen of python\n",
    "import this"
   ]
  },
  {
   "cell_type": "markdown",
   "metadata": {},
   "source": [
    "* Python interpreter is a repl. Means read. evaluate. Print loop.\n",
    "* It can be used as a calculator. :)\n",
    "* _ is used as prior value."
   ]
  },
  {
   "cell_type": "markdown",
   "metadata": {},
   "source": [
    "* ctrl + c to stop the ongoing program and ctrl + D to exit to thtreminal."
   ]
  }
 ],
 "metadata": {
  "kernelspec": {
   "display_name": "Python 3",
   "language": "python",
   "name": "python3"
  },
  "language_info": {
   "codemirror_mode": {
    "name": "ipython",
    "version": 3
   },
   "file_extension": ".py",
   "mimetype": "text/x-python",
   "name": "python",
   "nbconvert_exporter": "python",
   "pygments_lexer": "ipython3",
   "version": "3.7.3"
  }
 },
 "nbformat": 4,
 "nbformat_minor": 2
}
