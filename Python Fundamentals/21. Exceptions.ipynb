{
 "cells": [
  {
   "cell_type": "markdown",
   "metadata": {},
   "source": [
    "# Exception Handling"
   ]
  },
  {
   "cell_type": "raw",
   "metadata": {},
   "source": [
    "Exception handling is a mechanism for stopping \"normal\" program flow and continuing at some surrounding context or code block.\n",
    "\n",
    "Raise: an exception t interrupt program flaw.\n",
    "Handle: an exception to resume control\n",
    "unhandled Exceptions: will terminate the program\n",
    "Exception Objects: contain infoormation about the exceptional event."
   ]
  },
  {
   "cell_type": "code",
   "execution_count": 1,
   "metadata": {},
   "outputs": [],
   "source": [
    "''' A module for demonstrating exceptions '''\n",
    "def convert(s):\n",
    "    '''Convert to an integer.'''\n",
    "    x = int(s)\n",
    "    return x"
   ]
  },
  {
   "cell_type": "code",
   "execution_count": 2,
   "metadata": {},
   "outputs": [
    {
     "data": {
      "text/plain": [
       "4"
      ]
     },
     "execution_count": 2,
     "metadata": {},
     "output_type": "execute_result"
    }
   ],
   "source": [
    "convert(4.0)"
   ]
  },
  {
   "cell_type": "code",
   "execution_count": 3,
   "metadata": {},
   "outputs": [
    {
     "data": {
      "text/plain": [
       "4"
      ]
     },
     "execution_count": 3,
     "metadata": {},
     "output_type": "execute_result"
    }
   ],
   "source": [
    "convert('4')"
   ]
  },
  {
   "cell_type": "code",
   "execution_count": 4,
   "metadata": {},
   "outputs": [
    {
     "ename": "ValueError",
     "evalue": "invalid literal for int() with base 10: 's'",
     "output_type": "error",
     "traceback": [
      "\u001b[0;31m---------------------------------------------------------------------------\u001b[0m",
      "\u001b[0;31mValueError\u001b[0m                                Traceback (most recent call last)",
      "\u001b[0;32m<ipython-input-4-6807aaa8c015>\u001b[0m in \u001b[0;36m<module>\u001b[0;34m\u001b[0m\n\u001b[0;32m----> 1\u001b[0;31m \u001b[0mconvert\u001b[0m\u001b[0;34m(\u001b[0m\u001b[0;34m's'\u001b[0m\u001b[0;34m)\u001b[0m\u001b[0;34m\u001b[0m\u001b[0;34m\u001b[0m\u001b[0m\n\u001b[0m",
      "\u001b[0;32m<ipython-input-1-a52aa8f95be2>\u001b[0m in \u001b[0;36mconvert\u001b[0;34m(s)\u001b[0m\n\u001b[1;32m      2\u001b[0m \u001b[0;32mdef\u001b[0m \u001b[0mconvert\u001b[0m\u001b[0;34m(\u001b[0m\u001b[0ms\u001b[0m\u001b[0;34m)\u001b[0m\u001b[0;34m:\u001b[0m\u001b[0;34m\u001b[0m\u001b[0;34m\u001b[0m\u001b[0m\n\u001b[1;32m      3\u001b[0m     \u001b[0;34m'''Convert to an integer.'''\u001b[0m\u001b[0;34m\u001b[0m\u001b[0;34m\u001b[0m\u001b[0m\n\u001b[0;32m----> 4\u001b[0;31m     \u001b[0mx\u001b[0m \u001b[0;34m=\u001b[0m \u001b[0mint\u001b[0m\u001b[0;34m(\u001b[0m\u001b[0ms\u001b[0m\u001b[0;34m)\u001b[0m\u001b[0;34m\u001b[0m\u001b[0;34m\u001b[0m\u001b[0m\n\u001b[0m\u001b[1;32m      5\u001b[0m     \u001b[0;32mreturn\u001b[0m \u001b[0mx\u001b[0m\u001b[0;34m\u001b[0m\u001b[0;34m\u001b[0m\u001b[0m\n",
      "\u001b[0;31mValueError\u001b[0m: invalid literal for int() with base 10: 's'"
     ]
    }
   ],
   "source": [
    "convert('s')"
   ]
  },
  {
   "cell_type": "code",
   "execution_count": 5,
   "metadata": {},
   "outputs": [],
   "source": [
    "def convert(s):\n",
    "    '''Convert to an integer.'''\n",
    "    try:\n",
    "        x = int(s)\n",
    "        print(\"conversion succeed x= \",x)\n",
    "    except ValueError:\n",
    "        print(\"conversion failed\")\n",
    "        x = -1\n",
    "    return x"
   ]
  },
  {
   "cell_type": "code",
   "execution_count": 6,
   "metadata": {},
   "outputs": [
    {
     "name": "stdout",
     "output_type": "stream",
     "text": [
      "conversion failed\n"
     ]
    },
    {
     "data": {
      "text/plain": [
       "-1"
      ]
     },
     "execution_count": 6,
     "metadata": {},
     "output_type": "execute_result"
    }
   ],
   "source": [
    "convert('s')"
   ]
  },
  {
   "cell_type": "code",
   "execution_count": 7,
   "metadata": {},
   "outputs": [],
   "source": [
    "def convert(s):\n",
    "    '''Convert to an integer.'''\n",
    "    try:\n",
    "        x = int(s)\n",
    "        print(\"conversion succeed x= \",x)\n",
    "    except (ValueError, TypeError):\n",
    "        print(\"conversion failed\")\n",
    "        x = -1\n",
    "    return x"
   ]
  },
  {
   "cell_type": "markdown",
   "metadata": {},
   "source": [
    "* These errors can't be handled by exception handler - Indentation Eror, SyntaxError, NameError.\n",
    "* You shouldn't normally catch it"
   ]
  },
  {
   "cell_type": "code",
   "execution_count": 8,
   "metadata": {},
   "outputs": [],
   "source": [
    "import sys\n",
    "def convert(s):\n",
    "    '''Convert to an integer.'''\n",
    "    try:\n",
    "        x = int(s)\n",
    "        print(\"conversion succeed x= \",x)\n",
    "    except (ValueError, TypeError) as e:\n",
    "        print(\"conversion error: {}\"\\\n",
    "             .format(str(e)),\n",
    "             file = sys.stderr)\n",
    "        x = -1\n",
    "    return x"
   ]
  },
  {
   "cell_type": "markdown",
   "metadata": {},
   "source": [
    "Exceptions can't be ignored but error codes can."
   ]
  },
  {
   "cell_type": "code",
   "execution_count": 9,
   "metadata": {},
   "outputs": [],
   "source": [
    "import sys\n",
    "def convert(s):\n",
    "    '''Convert to an integer.'''\n",
    "    try:\n",
    "        x = int(s)\n",
    "        print(\"conversion succeed x= \",x)\n",
    "    except (ValueError, TypeError) as e:\n",
    "        print(\"conversion error: {}\"\\\n",
    "             .format(str(e)),\n",
    "             file = sys.stderr)\n",
    "        raise # It keeps the same error\n",
    "    return x"
   ]
  },
  {
   "cell_type": "raw",
   "metadata": {},
   "source": [
    "# Exceptions are part of the API\n",
    "Callers need to know what exceptions to except.\n",
    "Use exceptions that users will anticipate.\n",
    "Standard exceptions are often the best choice."
   ]
  },
  {
   "cell_type": "code",
   "execution_count": 13,
   "metadata": {},
   "outputs": [
    {
     "data": {
      "text/plain": [
       "3.162277660168379"
      ]
     },
     "execution_count": 13,
     "metadata": {},
     "output_type": "execute_result"
    }
   ],
   "source": [
    "sqrt(10)"
   ]
  },
  {
   "cell_type": "code",
   "execution_count": null,
   "metadata": {},
   "outputs": [],
   "source": [
    "def sqrt(x):\n",
    "    '''Compute square roots using the method of\n",
    "    Heron of Alexandria.\n",
    "    \n",
    "    Args:\n",
    "        x: The number for which the square root \n",
    "        is to be computed.\n",
    "    Returns: \n",
    "        The square root of x\n",
    "    '''\n",
    "    \n",
    "    guess = x\n",
    "    i = 0\n",
    "    while guess*guess != x and i<20:\n",
    "        guess = (guess + x/guess) / 2.0\n",
    "        i += 1\n",
    "    return guess\n",
    "\n",
    "def main():\n",
    "    print(sqrt(9))\n",
    "    print(sqrt(2))\n",
    "    \n",
    "if __name__ == '__main__':\n",
    "    main()"
   ]
  },
  {
   "cell_type": "code",
   "execution_count": 15,
   "metadata": {},
   "outputs": [
    {
     "name": "stdout",
     "output_type": "stream",
     "text": [
      "3.0\n",
      "1.414213562373095\n"
     ]
    }
   ],
   "source": [
    "'''This method is not correct'''\n",
    "\n",
    "def sqrt(x):\n",
    "    '''Compute square roots using the method of\n",
    "    Heron of Alexandria.\n",
    "    \n",
    "    Args:\n",
    "        x: The number for which the square root \n",
    "        is to be computed.\n",
    "    Returns: \n",
    "        The square root of x\n",
    "    '''\n",
    "    try:\n",
    "        guess = x\n",
    "        i = 0\n",
    "        while guess*guess != x and i<20:\n",
    "            guess = (guess + x/guess) / 2.0\n",
    "            i += 1\n",
    "    except ZeroDivisionError:\n",
    "        raise ValueError()\n",
    "    return guess\n",
    "\n",
    "def main():\n",
    "    print(sqrt(9))\n",
    "    print(sqrt(2))\n",
    "    \n",
    "if __name__ == '__main__':\n",
    "    main()"
   ]
  },
  {
   "cell_type": "code",
   "execution_count": 16,
   "metadata": {},
   "outputs": [
    {
     "name": "stdout",
     "output_type": "stream",
     "text": [
      "3.0\n",
      "1.414213562373095\n"
     ]
    }
   ],
   "source": [
    "import sys\n",
    "def sqrt(x):\n",
    "    '''Compute square roots using the method of\n",
    "    Heron of Alexandria.\n",
    "    \n",
    "    Args:\n",
    "        x: The number for which the square root \n",
    "        is to be computed.\n",
    "    Returns: \n",
    "        The square root of x\n",
    "    '''\n",
    "    if x<0:\n",
    "        raise ValueError(\"negative number found\")\n",
    "    guess = x\n",
    "    i = 0\n",
    "    while guess*guess != x and i<20:\n",
    "        guess = (guess + x/guess) / 2.0\n",
    "        i += 1\n",
    "    return guess\n",
    "\n",
    "def main():\n",
    "    try:\n",
    "        print(sqrt(9))\n",
    "        print(sqrt(2))\n",
    "    except ValueError as e:\n",
    "        print(e, file=sys.stderr)\n",
    "        \n",
    "if __name__ == '__main__':\n",
    "    main()"
   ]
  },
  {
   "cell_type": "raw",
   "metadata": {},
   "source": [
    "Exceptions are parts of families of related functions reffered to as protocols.\n",
    "\n",
    "Use common or existing exception types when possible. for eg: IndexError, KeyError, ValueError, TypeError.\n",
    "\n",
    "IndexError: Integer index is out of range\n",
    "ValueError: object is of the right type, but contains an inappropriate value.\n",
    "KeyError: when look-up in a mapping fails\n",
    "\n",
    "Avoid protecting against TypeError, like by checking types of args.\n",
    "\n",
    "Its usually not worth checking types. This can limit your functions unnecessarily.\n",
    "\n",
    "Python philosophy is \"its easy to ask for forgiveness than permission\" Means you can write exception handlers to handle your code.\n",
    "\n",
    "Your code shouldn't follow 'look before you leap' means writing the logic by doing lots of prechecking before execution.\n",
    "\n",
    "LBYL\n",
    "-----\n",
    "* It has limitations like it only check for existence, what if it contains garbage or the file is collected by the garbage collector.\n",
    "* There is also a race condition here what if the file is deleted?\n",
    "\n",
    "import os\n",
    "p = '/path/to/datafile.data'\n",
    "if os.path.exists(p):\n",
    "    process_file(p)\n",
    "else:\n",
    "    print('No such file as {}'.format(p))\n",
    "    \n",
    "EAFP\n",
    "----\n",
    "* Its more pythonic approach.\n",
    "\n",
    "p = '/path/to/datafile.dat'\n",
    "try:\n",
    "    process_file(p)\n",
    "except OSError as e:\n",
    "    print('could not process the file. because {}'\\\n",
    "    .format(str(e)))\n",
    "    \n",
    "    \n",
    "Error codes require interspersed, local handling. \n",
    "\n",
    "Exceptions allow centralized, non-local handling.\n",
    "\n",
    "Exceptions require explicit handling. Error codes are silent by default.\n",
    "\n",
    "EAFP + Exceptions = errors are difficult to ignore."
   ]
  },
  {
   "cell_type": "raw",
   "metadata": {},
   "source": [
    "Clean up actions\n",
    "-----------------\n",
    "try ... finally lets you clean up whether an exception occurs or not.\n",
    "\n",
    "import os\n",
    "def make_at(path,dirname):\n",
    "    origional_path = os.getcwd()\n",
    "    os.chdir(path)\n",
    "    os.mkdir(dirname) # If it has error\n",
    "    os.chdir(origional_path) # this will not happen\n",
    "    \n",
    "\n",
    "import os\n",
    "def make_at(path,dirname):\n",
    "    origional_path = os.getcwd()\n",
    "    try:\n",
    "        os.chdir(path)\n",
    "        os.mkdir(dirname) # If it has error or not\n",
    "    except OSError as e:\n",
    "        print(e, file=sys.stderr)\n",
    "        raise\n",
    "    finally:\n",
    "        os.chdir(origional_path) # this occurs\n",
    "    \n",
    "    "
   ]
  },
  {
   "cell_type": "raw",
   "metadata": {},
   "source": [
    "* Omitting exception class catches all exception which is a bad idea.\n",
    "* Exceptions are arranged in an inheritance hierarchy.\n",
    "* Exceptions are classes, So if we use parent class name in exception, all sub class errors can be handled. "
   ]
  },
  {
   "cell_type": "code",
   "execution_count": null,
   "metadata": {},
   "outputs": [],
   "source": [
    "# * Defining new exceptions\n",
    "# -------------------------\n",
    "import math\n",
    "class TraingleError(Exception):\n",
    "    def __init__(self,text,sides):\n",
    "        super().__init__(text):\n",
    "            self.slides = tuple(sides)\n",
    "    \n",
    "    @property\n",
    "    def sides(self):\n",
    "        return self.sides\n",
    "    \n",
    "    def __str__(self):\n",
    "        return \"{} for sides {}\".format(self.args[0],self.sides)\n",
    "    \n",
    "    def __repr__(self):\n",
    "        return \"TriangleError({!r},{!r})\".format(self.args[0],self.sides)\n",
    "    \n",
    "    "
   ]
  }
 ],
 "metadata": {
  "kernelspec": {
   "display_name": "Python 3",
   "language": "python",
   "name": "python3"
  },
  "language_info": {
   "codemirror_mode": {
    "name": "ipython",
    "version": 3
   },
   "file_extension": ".py",
   "mimetype": "text/x-python",
   "name": "python",
   "nbconvert_exporter": "python",
   "pygments_lexer": "ipython3",
   "version": "3.7.3"
  }
 },
 "nbformat": 4,
 "nbformat_minor": 2
}
