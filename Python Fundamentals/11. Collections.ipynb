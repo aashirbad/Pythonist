{
 "cells": [
  {
   "cell_type": "markdown",
   "metadata": {},
   "source": [
    "# Collections "
   ]
  },
  {
   "cell_type": "raw",
   "metadata": {},
   "source": [
    "Range: Arithmetic progression of integers\n",
    "range(start, stop, step)\n",
    "Stop value is the necessary argument and excluded from the result."
   ]
  },
  {
   "cell_type": "raw",
   "metadata": {},
   "source": [
    "range(n)     Stop value\n",
    "range(m,n)   start and stop value\n",
    "range(m,n,x) start, stop and step"
   ]
  },
  {
   "cell_type": "markdown",
   "metadata": {},
   "source": [
    "## Shallow Copies"
   ]
  },
  {
   "cell_type": "code",
   "execution_count": 1,
   "metadata": {},
   "outputs": [],
   "source": [
    "a = [[1,2],[3,4]]"
   ]
  },
  {
   "cell_type": "raw",
   "metadata": {},
   "source": [
    "First all the integers are created then the nested list created which references to 1st list, then another object is created which references to 2nd nested list and at last the list object created which reference both the list. \n",
    "\n",
    "Copies\n",
    "------\n",
    "If b = a[:]\n",
    "Then b is not a but what a references to is also referenced by b. Means the origional inner lists are referenced by elements of b.\n",
    "\n",
    "means a is not b, but a[0] is b[0]. If a[0] = [8,9]\n",
    "then a is modified but is not. If 5 is appended to a[1] then also b[1] is modified."
   ]
  },
  {
   "cell_type": "raw",
   "metadata": {},
   "source": [
    "*** Collection Protocols ***\n",
    "\n",
    "* To implement a protocol, objects must support certain operations.\n",
    "* Most collections implement container, sized, and iterable.\n",
    "\n",
    "Protocols     Implementing collections    Operations\n",
    "----------    ------------------------    ----------\n",
    "Container,     str,list,range,tuple,     in, not in,\n",
    "sized,          bytes,set,dict            len,\n",
    "iterable                                 iter(s)\n",
    "\n",
    "sequence       str,list,range,tuple,    index,   \n",
    "                     bytes              count,\n",
    "                                        reversed\n",
    "mutable seq       list\n",
    "mutable set       set\n",
    "mutable mapping   dict\n"
   ]
  },
  {
   "cell_type": "code",
   "execution_count": 10,
   "metadata": {},
   "outputs": [],
   "source": [
    "'''Lets Build a SortedSet\n",
    "* A collection which is a sized,iterable,sequence\n",
    "container of a set of distinct items & constructable\n",
    "from an iterable\n",
    "'''\n",
    "from collections.abc import Sequence,Set\n",
    "from bisect import bisect_left\n",
    "from itertools import chain\n",
    "\n",
    "class SortedSet(Sequence,Set):\n",
    "    \n",
    "    def __init__(self,items=None):\n",
    "        self.items = sorted(items) if items is not None else []\n",
    "        \n",
    "    def __contains__(self,item):\n",
    "        '''Its the container protocol used to test for membership\n",
    "        operation using in and not in\n",
    "        '''\n",
    "        try:\n",
    "            self.index(item)\n",
    "            return True\n",
    "        except ValueError:\n",
    "            return False\n",
    "        \n",
    "    def __len__(self,items):\n",
    "        '''Its the sized protocol of the collection'''\n",
    "        \n",
    "        return len(self.items)\n",
    "    \n",
    "    def  __iter__(self):\n",
    "        '''Iterable prottocol'''\n",
    "        for item in self.items:\n",
    "            yield item\n",
    "            \n",
    "    # sequence protocol it supports indexing,concat,\n",
    "    # repetition, count, reversed, __getitem__ and len\n",
    "    \n",
    "    def __getitem__(self, index):\n",
    "        res = self.items[index]\n",
    "        return SortedSet(result) if isinstance(index,slice) else res\n",
    "    \n",
    "    def __repr__(self):\n",
    "        return \"SortedSet({})\".format(repr(self.items) if self.items else '')\n",
    "    \n",
    "    def __eq__(self,rhs):\n",
    "        if not isinstance(rhs,SortedSet):\n",
    "            return NotImplemented\n",
    "        return self.items == rhs.items\n",
    "    \n",
    "    def __ne__(self,rhs):\n",
    "        if not isinstance(rhs,SortedSet):\n",
    "            return NotImplemented\n",
    "        return self.items != rhs.items\n",
    "    \n",
    "    def count(self,item):\n",
    "        return int(item in self)\n",
    "    \n",
    "    def index(self,item):\n",
    "        index = bisect_left(self.items,item)\n",
    "        if (index != len(self.items)) and (self.items[index] == item):\n",
    "            return index\n",
    "        raise ValueError(\"{} not found\".format(repr(item)))\n",
    "        \n",
    "    def __add__(self,rhs):\n",
    "        return SortedSet(chain(self.items,rhs.items))\n",
    "    \n",
    "    def __mul__(self,rhs):\n",
    "        return self if rhs>0 else SortedSet()\n",
    "    \n",
    "    def __rmul__(self,lhs):\n",
    "        return self*lhs\n",
    "    \n",
    "    def issubset(self,iterable):\n",
    "        return self <= SortedSet(iterable)\n",
    "    \n",
    "    def issuperset(self,iterable):\n",
    "        return self >= SortedSet(iterable)\n",
    "    \n",
    "    def intersection(self,iterable):\n",
    "        return self & SortedSet(iterable)\n",
    "    \n",
    "    def union(self,iterable):\n",
    "        return self | SortedSet(iterable)\n",
    "    \n",
    "    def symmetric_difference(self,iterable):\n",
    "        return self ^ SortedSet(iterable)\n",
    "    \n",
    "    def difference(self,iterable):\n",
    "        return self - SortedSet(iterable)\n",
    "    \n",
    "    "
   ]
  }
 ],
 "metadata": {
  "kernelspec": {
   "display_name": "Python 3",
   "language": "python",
   "name": "python3"
  },
  "language_info": {
   "codemirror_mode": {
    "name": "ipython",
    "version": 3
   },
   "file_extension": ".py",
   "mimetype": "text/x-python",
   "name": "python",
   "nbconvert_exporter": "python",
   "pygments_lexer": "ipython3",
   "version": "3.7.3"
  }
 },
 "nbformat": 4,
 "nbformat_minor": 2
}
