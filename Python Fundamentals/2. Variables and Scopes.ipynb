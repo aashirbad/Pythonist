{
 "cells": [
  {
   "cell_type": "markdown",
   "metadata": {},
   "source": [
    "# Variables and Scopes"
   ]
  },
  {
   "cell_type": "raw",
   "metadata": {},
   "source": [
    "Scopes are contexts in which named references can be looked up."
   ]
  },
  {
   "cell_type": "raw",
   "metadata": {},
   "source": [
    "Local      Inside the current function\n",
    "Enclosing  Any and all enclosing function\n",
    "Global     Top level of module\n",
    "Built-in   Provided by builtins module"
   ]
  },
  {
   "cell_type": "code",
   "execution_count": 1,
   "metadata": {},
   "outputs": [],
   "source": [
    "''' Demonstrate scoping '''\n",
    "count = 0\n",
    "def show_count():\n",
    "    print(\"count = \", count)\n",
    "def set_count(c):\n",
    "    count = c"
   ]
  },
  {
   "cell_type": "code",
   "execution_count": 2,
   "metadata": {},
   "outputs": [
    {
     "name": "stdout",
     "output_type": "stream",
     "text": [
      "count =  0\n",
      "count =  0\n"
     ]
    }
   ],
   "source": [
    "show_count()\n",
    "set_count(5)\n",
    "show_count()"
   ]
  },
  {
   "cell_type": "code",
   "execution_count": 4,
   "metadata": {},
   "outputs": [],
   "source": [
    "''' Demonstrate scoping '''\n",
    "count = 0\n",
    "def show_count():\n",
    "    print(\"count = \", count)\n",
    "def set_count(c):\n",
    "    global count\n",
    "    count = c"
   ]
  },
  {
   "cell_type": "code",
   "execution_count": 5,
   "metadata": {},
   "outputs": [
    {
     "name": "stdout",
     "output_type": "stream",
     "text": [
      "count =  0\n",
      "count =  5\n"
     ]
    }
   ],
   "source": [
    "show_count()\n",
    "set_count(5)\n",
    "show_count()"
   ]
  },
  {
   "cell_type": "code",
   "execution_count": null,
   "metadata": {},
   "outputs": [],
   "source": []
  }
 ],
 "metadata": {
  "kernelspec": {
   "display_name": "Python 3",
   "language": "python",
   "name": "python3"
  },
  "language_info": {
   "codemirror_mode": {
    "name": "ipython",
    "version": 3
   },
   "file_extension": ".py",
   "mimetype": "text/x-python",
   "name": "python",
   "nbconvert_exporter": "python",
   "pygments_lexer": "ipython3",
   "version": "3.7.3"
  }
 },
 "nbformat": 4,
 "nbformat_minor": 2
}
