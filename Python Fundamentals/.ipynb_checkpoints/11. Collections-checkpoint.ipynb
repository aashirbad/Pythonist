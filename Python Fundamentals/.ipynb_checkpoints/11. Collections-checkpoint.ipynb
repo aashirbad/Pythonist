{
 "cells": [
  {
   "cell_type": "markdown",
   "metadata": {},
   "source": [
    "# Collections "
   ]
  },
  {
   "cell_type": "raw",
   "metadata": {},
   "source": [
    "Range: Arithmetic progression of integers\n",
    "range(start, stop, step)\n",
    "Stop value is the necessary argument and excluded from the result."
   ]
  },
  {
   "cell_type": "raw",
   "metadata": {},
   "source": [
    "range(n)     Stop value\n",
    "range(m,n)   start and stop value\n",
    "range(m,n,x) start, stop and step"
   ]
  },
  {
   "cell_type": "markdown",
   "metadata": {},
   "source": [
    "## Shallow Copies"
   ]
  },
  {
   "cell_type": "code",
   "execution_count": 1,
   "metadata": {},
   "outputs": [],
   "source": [
    "a = [[1,2],[3,4]]"
   ]
  },
  {
   "cell_type": "raw",
   "metadata": {},
   "source": [
    "First all the integers are created then the nested list created which references to 1st list, then another object is created which references to 2nd nested list and at last the list object created which reference both the list. \n",
    "\n",
    "Copies\n",
    "------\n",
    "If b = a[:]\n",
    "Then b is not a but what a references to is also referenced by b. Means the origional inner lists are referenced by elements of b.\n",
    "\n",
    "means a is not b, but a[0] is b[0]. If a[0] = [8,9]\n",
    "then a is modified but is not. If 5 is appended to a[1] then also b[1] is modified."
   ]
  },
  {
   "cell_type": "raw",
   "metadata": {},
   "source": [
    "*** Collection Protocols ***\n",
    "\n",
    "* To implement a protocol, objects must support certain operations.\n",
    "* Most collections implement container, sized, and iterable.\n",
    "\n",
    "Protocols     Implementing collections    Operations\n",
    "----------    ------------------------    ----------\n",
    "Container,     str,list,range,tuple,     in, not in,\n",
    "sized,          bytes,set,dict            len,\n",
    "iterable                                 iter(s)\n",
    "\n",
    "sequence       str,list,range,tuple,    index,   \n",
    "                     bytes              count,\n",
    "                                        reversed\n",
    "mutable seq       list\n",
    "mutable set       set\n",
    "mutable mapping   dict\n"
   ]
  },
  {
   "cell_type": "code",
   "execution_count": null,
   "metadata": {},
   "outputs": [],
   "source": []
  }
 ],
 "metadata": {
  "kernelspec": {
   "display_name": "Python 3",
   "language": "python",
   "name": "python3"
  },
  "language_info": {
   "codemirror_mode": {
    "name": "ipython",
    "version": 3
   },
   "file_extension": ".py",
   "mimetype": "text/x-python",
   "name": "python",
   "nbconvert_exporter": "python",
   "pygments_lexer": "ipython3",
   "version": "3.7.3"
  }
 },
 "nbformat": 4,
 "nbformat_minor": 2
}
