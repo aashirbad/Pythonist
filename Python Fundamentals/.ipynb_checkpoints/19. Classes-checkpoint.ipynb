{
 "cells": [
  {
   "cell_type": "markdown",
   "metadata": {},
   "source": [
    "# Classes"
   ]
  },
  {
   "cell_type": "raw",
   "metadata": {},
   "source": [
    "But when they're not right for the job, you can use classes to create custom types. Classes define the structure and behaviour of objects.\n",
    "\n",
    "An object's class controls its initialization.\n",
    "\n",
    "Classes make complex problems tractable. Classes can make simple solutions overly complex."
   ]
  },
  {
   "cell_type": "code",
   "execution_count": null,
   "metadata": {},
   "outputs": [],
   "source": [
    "* Use camelcase to name classes"
   ]
  },
  {
   "cell_type": "code",
   "execution_count": 4,
   "metadata": {},
   "outputs": [],
   "source": [
    "\"\"\"Model for aircraft flights\"\"\"\n",
    "\n",
    "class Flight:\n",
    "    \"\"\"A flight with a particular passenger aircraft\"\"\"\n",
    "    \n",
    "    def __init__(self, number, aircraft):\n",
    "        if not number[:2].isalpha():\n",
    "            raise ValueError(\"No airline code in {}\"\\\n",
    "                            .format(number))\n",
    "        if not number[:2].isupper():\n",
    "            raise ValueError(\"invalid code {}\"\\\n",
    "                            .format(number))\n",
    "        if not (number[2:].isdigit() and int(number[2:]) <= 9999):\n",
    "            raise ValueError(\"invalid route number {}\".format(number))\n",
    "        \n",
    "        self._number = number\n",
    "        self._aircraft = aircraft\n",
    "        \n",
    "        rows,seats = self.aircraft.seating_plan()\n",
    "        self._seating = [None] + [{l:None for l in seats} for _ in rows]\n",
    "    \n",
    "    def number(self):\n",
    "        return \"SN060\"\n",
    "    \n",
    "    def airline(self):\n",
    "        return self._number\n",
    "    \n",
    "    def parse_seat(self,seat):\n",
    "        \"\"\"Parse a seat designator into a valid row \n",
    "        and letter.\n",
    "        \n",
    "        Args:\n",
    "            seat: A seat designator such as 12F\n",
    "            \n",
    "        Returns:\n",
    "            A tuple containing an integer and a string \n",
    "            for a row and seat.\n",
    "        \n",
    "        \"\"\"\n",
    "        row_numbers,seat_letters = self._aircraft.seating_plan()\n",
    "        \n",
    "        letter = seat[-1]\n",
    "        if letter not in seat_letters:\n",
    "            raise ValueError(\"invalid seat letter {}\"\\\n",
    "                            .format(letter))\n",
    "            \n",
    "            row_text = seat[:-1]\n",
    "            try:\n",
    "                row = int(row_text)\n",
    "            except ValueError:\n",
    "                raise ValueError(\"invalid seat row {}\"\\\n",
    "                                .format(row_text))\n",
    "            \n",
    "            if row not in row_numbers:\n",
    "                raise ValueError(\"invalid row number {}\"\\\n",
    "                                .format(row))\n",
    "                \n",
    "            return row, letter\n",
    "    \n",
    "    \n",
    "    def allocate_seat(seat,passenger):\n",
    "        \"\"\"Allocate a seat to a passenger.\n",
    "        \n",
    "        Args:\n",
    "            seat: a seat designator such as '12C' or '21F'.\n",
    "            passenger: The passenger name\n",
    "            \n",
    "        Raises:\n",
    "            ValueError: if the seat is unavailavle\n",
    "            \n",
    "        \"\"\"\n",
    "        \n",
    "        rows, seat_letters = self._aircraft.seating_plan()\n",
    "        \n",
    "        letter= seat[-1]\n",
    "        if letter not in seat_letters:\n",
    "            raise ValueError(\"invalid seat letter {}\"\\\n",
    "                            .format(letter))\n",
    "            \n",
    "        row_text = seat[:-1]\n",
    "        try:\n",
    "            row = int(row_text)\n",
    "        except ValueError:\n",
    "            raise ValueError(\"invlaid seat row {}\"\\\n",
    "                            .format(row_text))\n",
    "            \n",
    "        if row not in rows:\n",
    "            raise ValueError(\"invalid row number {}\"\\\n",
    "                            .format(row))\n",
    "            \n",
    "        if self._seating[row][letter] is not None:\n",
    "            raise ValueError(\"seat occupied {}\".format(seat))\n",
    "            \n",
    "        self._seating[row][letter] = passenger\n",
    "        \n",
    "    def relocate_passenger(self, from_seat, to_seat):\n",
    "        \"\"\"Relocate a passenger to a different seat\n",
    "        \n",
    "        Args:\n",
    "            from_seat: The existing seat designator for\n",
    "                        the passenger to be moved\n",
    "            to_seat: The new seat designator\n",
    "        \n",
    "        \"\"\"\n",
    "        \n",
    "        from_row, from_letter = self._parse_seat(from_seat)\n",
    "        if self._seating[from_row][from_letter] is None:\n",
    "            raise ValueError(\"No passenger to reloacte\")\n",
    "            \n",
    "        to_row,to_letter = self._parse_seat(to_seat)\n",
    "        if self._seating[to_row][to_letter] is None:\n",
    "            raise ValueError(\"seat already occupied\")\n",
    "            \n",
    "        self._seating[to_row][to_letter] = self._seating[from_row][from_letter]\n",
    "        self._seating[from_row][from_letter] = None\n",
    "    \n",
    "\n",
    "    def num_available_seats(self):\n",
    "        return sum(sum(1 for s in row.values() for s is none)\n",
    "                  for row in self._seating\n",
    "                  if row is not None)\n",
    "    \n",
    "    def aircraft_model(self):\n",
    "        return self._aircraft.model()"
   ]
  },
  {
   "cell_type": "raw",
   "metadata": {},
   "source": [
    "Method: A function defined within a class\n",
    "Instance Method: Functions which can be called on objects\n",
    "self: Th efirst argument to all instance method.\n",
    "\n",
    "__init__(self): The initialize. It should not return anything, it just modify the code. It is an initializer not a constructor.\n",
    "\n",
    "self is similar to this in c++ or java.\n",
    "\n",
    "The actual constructor is provided by python run time system, which just checks the initializer exists or not.\n",
    "\n",
    "In python everything is public as we're all consenting adults here according to python."
   ]
  },
  {
   "cell_type": "code",
   "execution_count": null,
   "metadata": {},
   "outputs": [],
   "source": [
    "class Aircraft:\n",
    "    def __init__(self,registration,model,num_rows,num_seats,num_seats_per_row):\n",
    "        self._registration = registration\n",
    "        self._model = model\n",
    "        self._num_rows = num_rows\n",
    "        self._num_seats_per_row = num_seats_per_row\n",
    "        \n",
    "    def registration(self):\n",
    "        return self._registration\n",
    "    \n",
    "    def model(self):\n",
    "        return self._model\n",
    "    \n",
    "    def seating_plan(self):\n",
    "        return (range(1,self._num_rows+1),\n",
    "               \"ABCDEFGHJK\"[:self._num_seats_per_row])\n",
    "    \n",
    "    "
   ]
  },
  {
   "cell_type": "markdown",
   "metadata": {},
   "source": [
    "Polymorphism is a programming feature which allows us to use objects of different type through a uniform interface. It achieved by dock typing in pyhton. \n",
    "\n",
    "An object's fitness for purpose is determined at the run time(time of use)."
   ]
  },
  {
   "cell_type": "markdown",
   "metadata": {},
   "source": [
    "### Inheritance"
   ]
  },
  {
   "cell_type": "raw",
   "metadata": {},
   "source": [
    "A subclass can derive from a base-class, inheriting its behaviour and making behaviour specific to the sub-class.\n",
    "Python uses late binding. \n",
    "Inheritance in python is most useful for sharing implementation between classes.\n",
    "\n",
    "Within the class method call will also with self.\n",
    "\n",
    "loose coupling: Polymorphism is achieved through duck typing.\n",
    "\n",
    "polymorphism in python doesn't use shared base classes or interfaces.\n",
    "\n",
    "all methods are inherited including initializer."
   ]
  },
  {
   "cell_type": "markdown",
   "metadata": {},
   "source": [
    "## Inheritance "
   ]
  },
  {
   "cell_type": "raw",
   "metadata": {},
   "source": [
    "Single inheritance\n",
    "-------------------\n",
    "class sub(base):\n",
    "    \n",
    "sub class have all the methods what base class have and it can override them. \n",
    "\n",
    "Subclasses will wanto to initialize base classes.\n",
    "\n",
    "Base class initializer will only be called automatically if subclass initializer is undefined."
   ]
  },
  {
   "cell_type": "code",
   "execution_count": 1,
   "metadata": {},
   "outputs": [],
   "source": [
    "class base:\n",
    "    def __init__(self):\n",
    "        print(\"base initializer\")\n",
    "    \n",
    "    def f(self):\n",
    "        print(\"Base.f()\")"
   ]
  },
  {
   "cell_type": "code",
   "execution_count": 4,
   "metadata": {},
   "outputs": [],
   "source": [
    "class sub(base):\n",
    "    def __init__(self):\n",
    "        super().__init__()\n",
    "        print('sub initializer')\n",
    "    \n",
    "    def f(self):\n",
    "        print('sub.f()')"
   ]
  },
  {
   "cell_type": "code",
   "execution_count": 5,
   "metadata": {},
   "outputs": [
    {
     "name": "stdout",
     "output_type": "stream",
     "text": [
      "sub initializer\n"
     ]
    }
   ],
   "source": [
    "s = sub()"
   ]
  },
  {
   "cell_type": "raw",
   "metadata": {},
   "source": [
    "Calling base class initializer\n",
    "------------------------------\n",
    "* Python treats __init__() like any other method.\n",
    "* Base class __init__() is not called if overridden.\n",
    "* use super() to call base class __init_()"
   ]
  },
  {
   "cell_type": "code",
   "execution_count": 6,
   "metadata": {},
   "outputs": [],
   "source": [
    "class SimpleList:\n",
    "    def __init__(self,items):\n",
    "        self.items = list(items)\n",
    "        \n",
    "    def add(self,item):\n",
    "        self.items.append(item)\n",
    "        \n",
    "    def __getitem__(self,index):\n",
    "        return self.items[index]\n",
    "    \n",
    "    def sort(self):\n",
    "        self.items.sort()\n",
    "        \n",
    "    def __len__(self):\n",
    "        return len(self.items)\n",
    "    \n",
    "    def __repr__(self):\n",
    "        return 'Simple list({!r})'.format(self.items)"
   ]
  },
  {
   "cell_type": "code",
   "execution_count": 7,
   "metadata": {},
   "outputs": [],
   "source": [
    "class SortedList(SimpleList):\n",
    "    def __init__(self,items=()):\n",
    "        super().__init__(items)\n",
    "        self.sort()\n",
    "        \n",
    "    def add(self,item):\n",
    "        super().add(item)\n",
    "        self.sort()\n",
    "        \n",
    "    def __repr__(self):\n",
    "        return \"sorted list({!r})\".format(list(self))"
   ]
  },
  {
   "cell_type": "markdown",
   "metadata": {},
   "source": [
    "## Multiple Inheritance"
   ]
  },
  {
   "cell_type": "raw",
   "metadata": {},
   "source": [
    "It's not more complex than single inheritance.\n",
    "\n",
    "* isinstance(): determines if an object is of a specified type. Its used at run time checking.\n",
    "* It also use multiple checking like\n",
    "   isinstance(x, (opt1,opt2,opt3))\n",
    "   \n",
    "* issubclass(sub,sup) : determines if one type is a subclass of another. sup and sub are type objects.\n",
    "\n",
    "* multiple inheritance: Defining a class with more than one base class.\n",
    "\n",
    "* Python has a simple and understandable system for multiple inheritance.\n",
    "\n",
    "     class sub(base1, base2 ...):\n",
    "     \n",
    "* subclasses inherit methods of all bases.\n",
    "* Without conflict, names resolve in the obvious way.\n",
    "* MRO(method resolution order) determines name lookup in all cases.\n",
    "\n",
    "* if a class \n",
    "    - Has multiple base classes\n",
    "    - defines no initializer\n",
    "    \n",
    " Then only the initializer of the first base class is automatically called.\n",
    " \n",
    "* __bases__ : A tuple of base classes."
   ]
  },
  {
   "cell_type": "code",
   "execution_count": 10,
   "metadata": {},
   "outputs": [],
   "source": [
    "class IntList(SimpleList):\n",
    "    def __init__(self,items=()):\n",
    "        for x in items: self.validate(x)\n",
    "        super().__init__(items)\n",
    "        \n",
    "    @staticmethod\n",
    "    def validate(x):\n",
    "        if not isinstance(x,int):\n",
    "            raise TypeError('not an int')\n",
    "            \n",
    "    def add(self,item):\n",
    "        self.validate(item)\n",
    "        super().add(item)\n",
    "        \n",
    "    def __repr__(self):\n",
    "        return \"intlist({!r})\".format(list(self))"
   ]
  },
  {
   "cell_type": "code",
   "execution_count": 11,
   "metadata": {},
   "outputs": [],
   "source": [
    "def SortedIntList(IntList, SortedList):\n",
    "    def __repr__(self):\n",
    "        return 'sortedIntList({!r})'.format(list(self))"
   ]
  },
  {
   "cell_type": "markdown",
   "metadata": {},
   "source": [
    "### Method Resolution Order"
   ]
  },
  {
   "cell_type": "code",
   "execution_count": 14,
   "metadata": {},
   "outputs": [
    {
     "ename": "SyntaxError",
     "evalue": "invalid syntax (<ipython-input-14-e07bf77d032c>, line 1)",
     "output_type": "error",
     "traceback": [
      "\u001b[0;36m  File \u001b[0;32m\"<ipython-input-14-e07bf77d032c>\"\u001b[0;36m, line \u001b[0;32m1\u001b[0m\n\u001b[0;31m    * It determines method name look up.\u001b[0m\n\u001b[0m                  ^\u001b[0m\n\u001b[0;31mSyntaxError\u001b[0m\u001b[0;31m:\u001b[0m invalid syntax\n"
     ]
    }
   ],
   "source": [
    "* It determines method name look up.\n",
    "* It's used to determine which implementation to be used when a method is invoked.\n",
    "* The class may have multiple base classes, base class of base classes.\n",
    "* Methods may be defined in multiple places\n",
    "* MRO is an ordering of the inheritance graph.\n",
    "* It can be checked by calling mro() on the class name.\n",
    "* C3 algorithm for calculating MRO in python.\n",
    "\n",
    "According to C3\n",
    "---------------\n",
    "* Subclasses come before base classes.\n",
    "* Base class order from class defination is preserved.\n",
    "* First two qualities are preserved no matters where you start in the inheriting graph.\n"
   ]
  },
  {
   "cell_type": "code",
   "execution_count": 16,
   "metadata": {},
   "outputs": [
    {
     "ename": "AttributeError",
     "evalue": "'function' object has no attribute 'mro'",
     "output_type": "error",
     "traceback": [
      "\u001b[0;31m---------------------------------------------------------------------------\u001b[0m",
      "\u001b[0;31mAttributeError\u001b[0m                            Traceback (most recent call last)",
      "\u001b[0;32m<ipython-input-16-47069aed5686>\u001b[0m in \u001b[0;36m<module>\u001b[0;34m\u001b[0m\n\u001b[0;32m----> 1\u001b[0;31m \u001b[0mSortedIntList\u001b[0m\u001b[0;34m.\u001b[0m\u001b[0mmro\u001b[0m\u001b[0;34m(\u001b[0m\u001b[0;34m)\u001b[0m\u001b[0;34m\u001b[0m\u001b[0;34m\u001b[0m\u001b[0m\n\u001b[0m",
      "\u001b[0;31mAttributeError\u001b[0m: 'function' object has no attribute 'mro'"
     ]
    }
   ],
   "source": [
    "SortedIntList.mro()"
   ]
  },
  {
   "cell_type": "raw",
   "metadata": {},
   "source": [
    "super(): It returns a proxy object which routes method calls.\n",
    "The proxy is of 2 types:\n",
    "    - Bound Proxy: Bound to a specific class or instance\n",
    "    - Unbound proxy: not bound to a class or instance.\n",
    "        \n",
    "    There are 2 types of bound proxies \n",
    "        - instance bound\n",
    "        - class bound\n",
    "        \n",
    "    super(base-class, derived-class)\n",
    "    \n",
    "    * Python finds MRO for derived class\n",
    "    * It then finds base-class in that MRO\n",
    "    * It take everything after base-classs in the MRO, and\n",
    "    finds the first class in that sequence with a matching\n",
    "    method name.\n",
    "    \n",
    "    According to C3 for the second argument. Then identify\n",
    "    the first argumetn in the mro.\n",
    "    \n",
    "    Instance bound proxy\n",
    "    --------------------\n",
    "    To create an instance bound proxy - super(class, instance-of-class)\n",
    "    First argument is a class and 2nd is a instance of that class.\n",
    "    \n",
    "    * Python finds the MRO for the type of second argument\n",
    "    * Then finds the location of the first argument in the MRO\n",
    "    * Uses everything after that for resolving methods\n",
    "    \n",
    "    super() uses everything after specific class in an MRO to resolve method calls"
   ]
  },
  {
   "cell_type": "raw",
   "metadata": {},
   "source": [
    "Object\n",
    "------\n",
    "The core of the python object model. Object is the ultimate base class of every class. Its automatically added as base class.\n"
   ]
  },
  {
   "cell_type": "code",
   "execution_count": null,
   "metadata": {},
   "outputs": [],
   "source": [
    "class attribute\n",
    "---------------\n",
    "\n",
    "\n",
    "instance attribute\n",
    "------------------"
   ]
  }
 ],
 "metadata": {
  "kernelspec": {
   "display_name": "Python 3",
   "language": "python",
   "name": "python3"
  },
  "language_info": {
   "codemirror_mode": {
    "name": "ipython",
    "version": 3
   },
   "file_extension": ".py",
   "mimetype": "text/x-python",
   "name": "python",
   "nbconvert_exporter": "python",
   "pygments_lexer": "ipython3",
   "version": "3.7.3"
  }
 },
 "nbformat": 4,
 "nbformat_minor": 2
}
