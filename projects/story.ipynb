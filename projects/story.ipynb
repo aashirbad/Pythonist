{
 "cells": [
  {
   "cell_type": "code",
   "execution_count": 1,
   "metadata": {},
   "outputs": [
    {
     "data": {
      "text/plain": [
       "' This is a mini project in python\\nto fetch data from web by using urllib'"
      ]
     },
     "execution_count": 1,
     "metadata": {},
     "output_type": "execute_result"
    }
   ],
   "source": [
    "\"\"\" This is a mini project in python\n",
    "to fetch data from web by using urllib\"\"\""
   ]
  },
  {
   "cell_type": "code",
   "execution_count": 2,
   "metadata": {},
   "outputs": [],
   "source": [
    "from urllib.request import urlopen"
   ]
  },
  {
   "cell_type": "code",
   "execution_count": 23,
   "metadata": {},
   "outputs": [],
   "source": [
    "def fetch_words(url):\n",
    "    \n",
    "    \"\"\"Fetch a list of words from a URL\n",
    "    \n",
    "    Args: \n",
    "        url: The URL of a UTF-8 text doxument.\n",
    "        \n",
    "    Returns: \n",
    "        A list of strings containing the words from\n",
    "        the document\n",
    "    \"\"\"\n",
    "    \n",
    "    with urlopen(url) as story:\n",
    "        story_words = []\n",
    "        for line in story:\n",
    "            line_words = line.decode('utf-8').split()\n",
    "            for word in line_words:\n",
    "                story_words.append(word)\n",
    "    return story_words"
   ]
  },
  {
   "cell_type": "code",
   "execution_count": 25,
   "metadata": {},
   "outputs": [],
   "source": [
    "def print_words(story_words):\n",
    "    \n",
    "    \"\"\" Print items one per line\n",
    "    \n",
    "        Args:\n",
    "            An iterable series of printable items\n",
    "    \"\"\"\n",
    "    \n",
    "    for word in story_words:\n",
    "        print(word)"
   ]
  },
  {
   "cell_type": "code",
   "execution_count": 21,
   "metadata": {},
   "outputs": [],
   "source": [
    "def main(url):\n",
    "    \n",
    "    \"\"\"\n",
    "      Print each word from a text document form a URL.\n",
    "      \n",
    "      Args:\n",
    "          url: The URL of a UTF-8 text document\n",
    "    \"\"\"\n",
    "    \n",
    "    words = fetch_words(url)\n",
    "    print_words(words)"
   ]
  },
  {
   "cell_type": "code",
   "execution_count": 22,
   "metadata": {},
   "outputs": [
    {
     "name": "stdout",
     "output_type": "stream",
     "text": [
      "It\n",
      "was\n",
      "the\n",
      "best\n",
      "of\n",
      "times\n",
      "it\n",
      "was\n",
      "the\n",
      "worst\n",
      "of\n",
      "times\n",
      "it\n",
      "was\n",
      "the\n",
      "age\n",
      "of\n",
      "wisdom\n",
      "it\n",
      "was\n",
      "the\n",
      "age\n",
      "of\n",
      "foolishness\n",
      "it\n",
      "was\n",
      "the\n",
      "epoch\n",
      "of\n",
      "belief\n",
      "it\n",
      "was\n",
      "the\n",
      "epoch\n",
      "of\n",
      "incredulity\n",
      "it\n",
      "was\n",
      "the\n",
      "season\n",
      "of\n",
      "Light\n",
      "it\n",
      "was\n",
      "the\n",
      "season\n",
      "of\n",
      "Darkness\n",
      "it\n",
      "was\n",
      "the\n",
      "spring\n",
      "of\n",
      "hope\n",
      "it\n",
      "was\n",
      "the\n",
      "winter\n",
      "of\n",
      "despair\n",
      "we\n",
      "had\n",
      "everything\n",
      "before\n",
      "us\n",
      "we\n",
      "had\n",
      "nothing\n",
      "before\n",
      "us\n",
      "we\n",
      "were\n",
      "all\n",
      "going\n",
      "direct\n",
      "to\n",
      "Heaven\n",
      "we\n",
      "were\n",
      "all\n",
      "going\n",
      "direct\n",
      "the\n",
      "other\n",
      "way\n",
      "in\n",
      "short\n",
      "the\n",
      "period\n",
      "was\n",
      "so\n",
      "far\n",
      "like\n",
      "the\n",
      "present\n",
      "period\n",
      "that\n",
      "some\n",
      "of\n",
      "its\n",
      "noisiest\n",
      "authorities\n",
      "insisted\n",
      "on\n",
      "its\n",
      "being\n",
      "received\n",
      "for\n",
      "good\n",
      "or\n",
      "for\n",
      "evil\n",
      "in\n",
      "the\n",
      "superlative\n",
      "degree\n",
      "of\n",
      "comparison\n",
      "only\n"
     ]
    }
   ],
   "source": [
    "if __name__ == '__main__':\n",
    "    main('http://sixty-north.com/c/t.txt')"
   ]
  },
  {
   "cell_type": "code",
   "execution_count": null,
   "metadata": {},
   "outputs": [],
   "source": []
  }
 ],
 "metadata": {
  "kernelspec": {
   "display_name": "Python 3",
   "language": "python",
   "name": "python3"
  },
  "language_info": {
   "codemirror_mode": {
    "name": "ipython",
    "version": 3
   },
   "file_extension": ".py",
   "mimetype": "text/x-python",
   "name": "python",
   "nbconvert_exporter": "python",
   "pygments_lexer": "ipython3",
   "version": "3.7.3"
  }
 },
 "nbformat": 4,
 "nbformat_minor": 2
}
